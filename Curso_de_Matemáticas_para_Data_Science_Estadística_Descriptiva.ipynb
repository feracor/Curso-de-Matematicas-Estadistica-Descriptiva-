{
  "nbformat": 4,
  "nbformat_minor": 0,
  "metadata": {
    "colab": {
      "provenance": [],
      "authorship_tag": "ABX9TyMZcYOpYGqUpxaImvX+5hcC",
      "include_colab_link": true
    },
    "kernelspec": {
      "name": "python3",
      "display_name": "Python 3"
    },
    "language_info": {
      "name": "python"
    }
  },
  "cells": [
    {
      "cell_type": "markdown",
      "metadata": {
        "id": "view-in-github",
        "colab_type": "text"
      },
      "source": [
        "<a href=\"https://colab.research.google.com/github/feracor/Curso-de-Matematicas-Estadistica-Descriptiva-/blob/main/Curso_de_Matem%C3%A1ticas_para_Data_Science_Estad%C3%ADstica_Descriptiva.ipynb\" target=\"_parent\"><img src=\"https://colab.research.google.com/assets/colab-badge.svg\" alt=\"Open In Colab\"/></a>"
      ]
    },
    {
      "cell_type": "markdown",
      "source": [
        "\n",
        "# **Clase 5 - Tipos de datos**"
      ],
      "metadata": {
        "id": "kZ7wrtCFN0lQ"
      }
    },
    {
      "cell_type": "markdown",
      "source": [
        "* Tipos de datos Categoricos, genero, categria de pelicula, metodeo de pago\n",
        "  * Ordinaes\n",
        "  * Nominal\n",
        "* Tipos de datos Numericos, Edad, altura, temperatura\n",
        "  * Dictreto, relacionada solo a numeros enteros\n",
        "  * Continuo, que tiene parte decimal"
      ],
      "metadata": {
        "id": "x0HGsbNhN6fc"
      }
    },
    {
      "cell_type": "code",
      "source": [
        "import pandas as pd # Manejo de information en hojas de calculo"
      ],
      "metadata": {
        "id": "19AuKe6BN5wf"
      },
      "execution_count": 1,
      "outputs": []
    },
    {
      "cell_type": "code",
      "execution_count": null,
      "metadata": {
        "id": "9R6TS7iJNymV"
      },
      "outputs": [],
      "source": []
    },
    {
      "cell_type": "markdown",
      "source": [],
      "metadata": {
        "id": "W4TkDTsNNz7-"
      }
    }
  ]
}